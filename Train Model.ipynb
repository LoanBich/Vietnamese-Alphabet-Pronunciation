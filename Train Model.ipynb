{
 "cells": [
  {
   "cell_type": "code",
   "execution_count": 1,
   "metadata": {},
   "outputs": [
    {
     "name": "stderr",
     "output_type": "stream",
     "text": [
      "/home/slime/Workspace/Vietnamese-Alphabet-Pronunciation/.venv/lib/python3.10/site-packages/tqdm/auto.py:21: TqdmWarning: IProgress not found. Please update jupyter and ipywidgets. See https://ipywidgets.readthedocs.io/en/stable/user_install.html\n",
      "  from .autonotebook import tqdm as notebook_tqdm\n",
      "/home/slime/Workspace/Vietnamese-Alphabet-Pronunciation/.venv/lib/python3.10/site-packages/transformers/configuration_utils.py:311: UserWarning: Passing `gradient_checkpointing` to a config initialization is deprecated and will be removed in v5 Transformers. Using `model.gradient_checkpointing_enable()` instead, or if you are using the `Trainer` API, pass `gradient_checkpointing=True` in your `TrainingArguments`.\n",
      "  warnings.warn(\n"
     ]
    }
   ],
   "source": [
    "%matplotlib inline\n",
    "%load_ext autoreload\n",
    "%autoreload 2\n",
    "\n",
    "from sklearn.manifold import TSNE\n",
    "\n",
    "from src.dataset import id2label, load_processed_dataset\n",
    "from src.feature_extractor import wav2vec2\n",
    "from src.models import fit_model, save_model\n",
    "\n",
    "waveforms, list_label_str, list_label_id = load_processed_dataset()"
   ]
  },
  {
   "cell_type": "code",
   "execution_count": 2,
   "metadata": {},
   "outputs": [
    {
     "data": {
      "text/html": [
       "<pre style=\"white-space:pre;overflow-x:auto;line-height:normal;font-family:Menlo,'DejaVu Sans Mono',consolas,'Courier New',monospace\"></pre>\n"
      ],
      "text/plain": []
     },
     "metadata": {},
     "output_type": "display_data"
    },
    {
     "data": {
      "text/plain": [
       "\u001b[1m(\u001b[0m\u001b[1;35mtorch.Size\u001b[0m\u001b[1m(\u001b[0m\u001b[1m[\u001b[0m\u001b[1;36m141\u001b[0m, \u001b[1;36m512\u001b[0m\u001b[1m]\u001b[0m\u001b[1m)\u001b[0m, \u001b[1m(\u001b[0m\u001b[1;36m141\u001b[0m,\u001b[1m)\u001b[0m, \u001b[1m(\u001b[0m\u001b[1;36m141\u001b[0m,\u001b[1m)\u001b[0m\u001b[1m)\u001b[0m"
      ]
     },
     "execution_count": 2,
     "metadata": {},
     "output_type": "execute_result"
    }
   ],
   "source": [
    "feature_vectors = wav2vec2(waveforms)\n",
    "feature_vectors.shape, list_label_str.shape, list_label_id.shape"
   ]
  },
  {
   "cell_type": "code",
   "execution_count": 3,
   "metadata": {},
   "outputs": [
    {
     "name": "stdout",
     "output_type": "stream",
     "text": [
      "Iteration 1, loss = 2.09808286\n",
      "Validation score: 0.000000\n",
      "Iteration 2, loss = 1.89042354\n",
      "Validation score: 0.333333\n",
      "Iteration 3, loss = 1.66144388\n",
      "Validation score: 0.333333\n",
      "Iteration 4, loss = 1.36754122\n",
      "Validation score: 0.400000\n",
      "Iteration 5, loss = 1.11733056\n",
      "Validation score: 0.333333\n",
      "Iteration 6, loss = 0.90675212\n",
      "Validation score: 0.466667\n",
      "Iteration 7, loss = 0.70926353\n",
      "Validation score: 0.533333\n",
      "Iteration 8, loss = 0.58336489\n",
      "Validation score: 0.600000\n",
      "Iteration 9, loss = 0.45370197\n",
      "Validation score: 0.600000\n",
      "Iteration 10, loss = 0.46388189\n",
      "Validation score: 0.666667\n",
      "Iteration 11, loss = 0.37767840\n",
      "Validation score: 0.600000\n",
      "Iteration 12, loss = 0.48110192\n",
      "Validation score: 0.533333\n",
      "Iteration 13, loss = 0.39146785\n",
      "Validation score: 0.466667\n",
      "Iteration 14, loss = 0.36980167\n",
      "Validation score: 0.666667\n",
      "Iteration 15, loss = 0.32771233\n",
      "Validation score: 0.466667\n",
      "Iteration 16, loss = 0.26952491\n",
      "Validation score: 0.600000\n",
      "Iteration 17, loss = 0.17720539\n",
      "Validation score: 0.666667\n",
      "Iteration 18, loss = 0.16054583\n",
      "Validation score: 0.600000\n",
      "Iteration 19, loss = 0.10825023\n",
      "Validation score: 0.600000\n",
      "Iteration 20, loss = 0.09555461\n",
      "Validation score: 0.600000\n",
      "Iteration 21, loss = 0.07689977\n",
      "Validation score: 0.600000\n",
      "Validation score did not improve more than tol=0.000010 for 10 consecutive epochs. Stopping.\n",
      "Training set score: 0.879433\n"
     ]
    },
    {
     "data": {
      "text/html": [
       "<pre style=\"white-space:pre;overflow-x:auto;line-height:normal;font-family:Menlo,'DejaVu Sans Mono',consolas,'Courier New',monospace\"></pre>\n"
      ],
      "text/plain": []
     },
     "metadata": {},
     "output_type": "display_data"
    },
    {
     "data": {
      "image/png": "[encoded data removed]",
      "text/plain": [
       "\u001b[1m<\u001b[0m\u001b[1;95mFigure\u001b[0m\u001b[39m size 64\u001b[0m\u001b[1;36m0x480\u001b[0m\u001b[39m with \u001b[0m\u001b[1;36m1\u001b[0m\u001b[39m Axes\u001b[0m\u001b[1m>\u001b[0m"
      ]
     },
     "metadata": {},
     "output_type": "display_data"
    }
   ],
   "source": [
    "model = fit_model(feature_vectors, list_label_id)\n",
    "plt.plot(model.loss_curve_)\n",
    "print(\"Training set score: %f\" % model.score(feature_vectors, list_label_id))"
   ]
  },
  {
   "cell_type": "code",
   "execution_count": 4,
   "metadata": {},
   "outputs": [
    {
     "data": {
      "text/html": [
       "<pre style=\"white-space:pre;overflow-x:auto;line-height:normal;font-family:Menlo,'DejaVu Sans Mono',consolas,'Courier New',monospace\"></pre>\n"
      ],
      "text/plain": []
     },
     "metadata": {},
     "output_type": "display_data"
    },
    {
     "data": {
      "text/plain": [
       "\u001b[1;36m0.8794326241134752\u001b[0m"
      ]
     },
     "execution_count": 4,
     "metadata": {},
     "output_type": "execute_result"
    }
   ],
   "source": [
    "save_model(model)\n",
    "model.score(feature_vectors, list_label_id)\n"
   ]
  },
  {
   "cell_type": "code",
   "execution_count": 9,
   "metadata": {},
   "outputs": [
    {
     "name": "stdout",
     "output_type": "stream",
     "text": [
      "Sample #1\n",
      "Actual Label: 4 (N)\n",
      "Predicted label: 4 (N)\n",
      "Predicted proba: [[3.05571087e-04 2.70023720e-04 1.47447070e-03 4.70415236e-02\n",
      "  9.26083250e-01 2.33937260e-02 1.27298705e-03 1.58448253e-04]]\n",
      "Proba for actual label: [0.92608325]\n",
      "Score: 4.704332998252207\n"
     ]
    }
   ],
   "source": [
    "from src.models import predict_score\n",
    "\n",
    "idx = 1\n",
    "proba = model.predict_proba(feature_vectors[idx : idx + 1])\n",
    "predicted_label_id = model.predict(feature_vectors[idx : idx + 1])[0]\n",
    "\n",
    "print(f\"Sample #{idx}\")\n",
    "print(f\"Actual Label: {list_label_id[idx]} ({list_label_str[idx]})\")\n",
    "print(\n",
    "    f\"Predicted label: {predicted_label_id} ({id2label(predicted_label_id)})\",\n",
    ")\n",
    "print(\"Predicted proba:\", proba)\n",
    "print(\"Proba for actual label:\", proba[:, list_label_id[idx]])\n",
    "print(\"Score:\", predict_score(model, waveforms[idx], list_label_str[idx]))"
   ]
  },
  {
   "cell_type": "code",
   "execution_count": 10,
   "metadata": {},
   "outputs": [
    {
     "name": "stdout",
     "output_type": "stream",
     "text": [
      "[t-SNE] Computing pairwise distances...\n",
      "[t-SNE] Computed conditional probabilities for sample 141 / 141\n",
      "[t-SNE] Mean sigma: 0.104812\n",
      "[t-SNE] Iteration 50: error = 69.4989775, gradient norm = 0.2790276 (50 iterations in 0.077s)\n",
      "[t-SNE] Iteration 100: error = 81.6359127, gradient norm = 0.2648105 (50 iterations in 0.064s)\n",
      "[t-SNE] Iteration 150: error = 91.1599101, gradient norm = 0.1700903 (50 iterations in 0.054s)\n",
      "[t-SNE] Iteration 200: error = 92.3997115, gradient norm = 0.2400999 (50 iterations in 0.056s)\n",
      "[t-SNE] Iteration 250: error = 96.9400885, gradient norm = 0.1665750 (50 iterations in 0.053s)\n",
      "[t-SNE] KL divergence after 250 iterations with early exaggeration: 96.940089\n",
      "[t-SNE] Iteration 300: error = 2.8044023, gradient norm = 0.0082455 (50 iterations in 0.053s)\n",
      "[t-SNE] Iteration 350: error = 2.2420011, gradient norm = 0.0065206 (50 iterations in 0.052s)\n",
      "[t-SNE] Iteration 400: error = 1.9002042, gradient norm = 0.0073766 (50 iterations in 0.053s)\n",
      "[t-SNE] Iteration 450: error = 1.6912929, gradient norm = 0.0045055 (50 iterations in 0.053s)\n",
      "[t-SNE] Iteration 500: error = 1.5166981, gradient norm = 0.0049395 (50 iterations in 0.051s)\n",
      "[t-SNE] Iteration 550: error = 1.3932200, gradient norm = 0.0032266 (50 iterations in 0.051s)\n",
      "[t-SNE] Iteration 600: error = 1.3369053, gradient norm = 0.0027929 (50 iterations in 0.052s)\n",
      "[t-SNE] Iteration 650: error = 1.2872138, gradient norm = 0.0029343 (50 iterations in 0.051s)\n",
      "[t-SNE] Iteration 700: error = 1.2241602, gradient norm = 0.0035638 (50 iterations in 0.051s)\n",
      "[t-SNE] Iteration 750: error = 1.1388586, gradient norm = 0.0034406 (50 iterations in 0.052s)\n",
      "[t-SNE] Iteration 800: error = 1.0533016, gradient norm = 0.0058900 (50 iterations in 0.053s)\n",
      "[t-SNE] Iteration 850: error = 0.9693080, gradient norm = 0.0029497 (50 iterations in 0.052s)\n",
      "[t-SNE] Iteration 900: error = 0.9097836, gradient norm = 0.0028256 (50 iterations in 0.051s)\n",
      "[t-SNE] Iteration 950: error = 0.8663820, gradient norm = 0.0042549 (50 iterations in 0.052s)\n",
      "[t-SNE] Iteration 1000: error = 0.8265994, gradient norm = 0.0021219 (50 iterations in 0.052s)\n",
      "[t-SNE] Iteration 1050: error = 0.7919107, gradient norm = 0.0026560 (50 iterations in 0.051s)\n",
      "[t-SNE] Iteration 1100: error = 0.7503672, gradient norm = 0.0021720 (50 iterations in 0.050s)\n",
      "[t-SNE] Iteration 1150: error = 0.7081695, gradient norm = 0.0049831 (50 iterations in 0.051s)\n",
      "[t-SNE] Iteration 1200: error = 0.6206403, gradient norm = 0.0027592 (50 iterations in 0.052s)\n",
      "[t-SNE] Iteration 1250: error = 0.5865433, gradient norm = 0.0016016 (50 iterations in 0.051s)\n",
      "[t-SNE] Iteration 1300: error = 0.5742573, gradient norm = 0.0012220 (50 iterations in 0.051s)\n",
      "[t-SNE] Iteration 1350: error = 0.5637564, gradient norm = 0.0012483 (50 iterations in 0.052s)\n",
      "[t-SNE] Iteration 1400: error = 0.5441512, gradient norm = 0.0045986 (50 iterations in 0.052s)\n",
      "[t-SNE] Iteration 1450: error = 0.5014736, gradient norm = 0.0032247 (50 iterations in 0.052s)\n",
      "[t-SNE] Iteration 1500: error = 0.4692253, gradient norm = 0.0009592 (50 iterations in 0.051s)\n",
      "[t-SNE] Iteration 1550: error = 0.4653857, gradient norm = 0.0007017 (50 iterations in 0.051s)\n",
      "[t-SNE] Iteration 1600: error = 0.4622067, gradient norm = 0.0007052 (50 iterations in 0.052s)\n",
      "[t-SNE] Iteration 1650: error = 0.4585221, gradient norm = 0.0010074 (50 iterations in 0.050s)\n",
      "[t-SNE] Iteration 1700: error = 0.4540950, gradient norm = 0.0009497 (50 iterations in 0.050s)\n",
      "[t-SNE] Iteration 1750: error = 0.4502382, gradient norm = 0.0009917 (50 iterations in 0.051s)\n",
      "[t-SNE] Iteration 1800: error = 0.4471051, gradient norm = 0.0008497 (50 iterations in 0.054s)\n",
      "[t-SNE] Iteration 1850: error = 0.4447866, gradient norm = 0.0007251 (50 iterations in 0.051s)\n",
      "[t-SNE] Iteration 1900: error = 0.4424263, gradient norm = 0.0007264 (50 iterations in 0.050s)\n",
      "[t-SNE] Iteration 1950: error = 0.4399589, gradient norm = 0.0007561 (50 iterations in 0.051s)\n",
      "[t-SNE] Iteration 2000: error = 0.4373678, gradient norm = 0.0007926 (50 iterations in 0.052s)\n",
      "[t-SNE] KL divergence after 2000 iterations: 0.437368\n"
     ]
    },
    {
     "data": {
      "application/vnd.plotly.v1+json": {
       "config": {
        "plotlyServerURL": "https://plot.ly"
       },
       "data": [
        {
         "hovertemplate": "0=%{x}<br>1=%{y}<br>2=%{z}<br>color=%{marker.color}<extra></extra>",
         "legendgroup": "",
         "marker": {
          "color": [
           4,
           4,
           1,
           4,
           5,
           1,
           2,
           0,
           3,
           6,
           4,
           5,
           2,
           5,
           0,
           3,
           5,
           0,
           7,
           2,
           2,
           3,
           5,
           3,
           6,
           5,
           0,
           1,
           3,
           2,
           1,
           1,
           4,
           7,
           0,
           6,
           5,
           5,
           7,
           6,
           2,
           7,
           7,
           1,
           7,
           5,
           7,
           6,
           1,
           2,
           6,
           2,
           2,
           7,
           3,
           2,
           3,
           1,
           3,
           0,
           1,
           6,
           2,
           1,
           5,
           7,
           3,
           6,
           6,
           6,
           7,
           5,
           6,
           3,
           4,
           6,
           2,
           4,
           2,
           3,
           7,
           3,
           4,
           0,
           1,
           1,
           7,
           2,
           2,
           0,
           1,
           1,
           4,
           7,
           0,
           4,
           5,
           6,
           5,
           4,
           3,
           7,
           4,
           6,
           0,
           3,
           4,
           6,
           5,
           0,
           3,
           7,
           6,
           4,
           2,
           2,
           2,
           5,
           6,
           4,
           6,
           3,
           2,
           4,
           5,
           3,
           0,
           1,
           0,
           3,
           4,
           0,
           7,
           4,
           7,
           5,
           1,
           0,
           3,
           4,
           0
          ],
          "coloraxis": "coloraxis",
          "symbol": "circle"
         },
         "mode": "markers",
         "name": "",
         "scene": "scene",
         "showlegend": false,
         "type": "scatter3d",
         "x": [
          -49.3944206237793,
          24.634845733642578,
          41.67763137817383,
          49.83757400512695,
          20.169776916503906,
          13.623583793640137,
          21.104393005371094,
          41.151248931884766,
          -33.16756820678711,
          -3.0223145484924316,
          -29.701534271240234,
          9.162975311279297,
          9.973691940307617,
          16.465526580810547,
          30.015432357788086,
          -75.6202392578125,
          18.672096252441406,
          33.595272064208984,
          -53.62492752075195,
          0.5047147274017334,
          40.790130615234375,
          34.08650207519531,
          46.541717529296875,
          -12.968270301818848,
          -49.38912582397461,
          55.346744537353516,
          -62.46769714355469,
          -31.866439819335938,
          35.277503967285156,
          27.39777374267578,
          20.971324920654297,
          58.96082305908203,
          -18.896120071411133,
          20.836191177368164,
          -68.20555877685547,
          -49.97048568725586,
          -5.292076587677002,
          31.627634048461914,
          22.236480712890625,
          3.791689395904541,
          20.919025421142578,
          44.552696228027344,
          8.424044609069824,
          -2.9355695247650146,
          14.469231605529785,
          -66.20972442626953,
          8.925437927246094,
          -3.5567917823791504,
          -15.5245361328125,
          -63.40790557861328,
          -14.66825008392334,
          37.966224670410156,
          12.812592506408691,
          27.75205421447754,
          -63.92290115356445,
          -53.277408599853516,
          -7.472595691680908,
          -16.19227409362793,
          48.379432678222656,
          40.50127029418945,
          -43.602500915527344,
          3.659104585647583,
          29.195430755615234,
          -20.060285568237305,
          36.443973541259766,
          17.847007751464844,
          16.746484756469727,
          32.921661376953125,
          -11.886468887329102,
          -49.86979293823242,
          30.472280502319336,
          32.904205322265625,
          -2.9599902629852295,
          -33.92144775390625,
          8.338991165161133,
          18.67962074279785,
          33.385215759277344,
          -37.78001022338867,
          13.483504295349121,
          -44.346221923828125,
          18.91575050354004,
          6.84446907043457,
          56.45450973510742,
          -47.99455261230469,
          -2.3371927738189697,
          -14.48320484161377,
          -36.306007385253906,
          12.40932846069336,
          35.05270004272461,
          30.322769165039062,
          -80.77400207519531,
          -8.111745834350586,
          -2.0168848037719727,
          -85.12593078613281,
          40.6083984375,
          37.16315460205078,
          -38.71139144897461,
          40.47283935546875,
          -29.926626205444336,
          24.5034122467041,
          -90.42866516113281,
          -37.70578384399414,
          -36.63330841064453,
          -0.3498840928077698,
          46.79200744628906,
          -76.89115142822266,
          -80.74147033691406,
          8.963726997375488,
          45.95581817626953,
          44.414058685302734,
          25.36554718017578,
          6.952054500579834,
          22.99714469909668,
          -81.93439483642578,
          -12.3010835647583,
          24.088237762451172,
          23.72117805480957,
          -57.426578521728516,
          -2.18603777885437,
          54.26713562011719,
          41.6148567199707,
          -22.29537582397461,
          -62.20458221435547,
          -26.053178787231445,
          31.188989639282227,
          47.87295150756836,
          32.15862274169922,
          34.008914947509766,
          45.87721252441406,
          -43.2478141784668,
          -20.103851318359375,
          15.611573219299316,
          -72.48257446289062,
          31.91748809814453,
          -28.35833168029785,
          -54.90480422973633,
          19.0860595703125,
          28.4263916015625,
          -19.720367431640625,
          -45.462158203125,
          28.573293685913086
         ],
         "y": [
          -12.594276428222656,
          47.711490631103516,
          -48.81479263305664,
          -44.370216369628906,
          -31.851730346679688,
          -60.482635498046875,
          72.4585189819336,
          30.210153579711914,
          -33.96482467651367,
          50.333404541015625,
          -18.111780166625977,
          36.09511184692383,
          -46.530853271484375,
          29.249128341674805,
          44.52257537841797,
          -19.7348575592041,
          41.31846237182617,
          34.486297607421875,
          -15.627878189086914,
          37.54646682739258,
          57.50432586669922,
          -1.1571645736694336,
          -27.484189987182617,
          19.222183227539062,
          -29.955726623535156,
          98.121337890625,
          -28.129562377929688,
          22.020193099975586,
          -10.520301818847656,
          -8.084704399108887,
          3.1451714038848877,
          -12.069607734680176,
          11.999391555786133,
          -63.60256576538086,
          -26.15831184387207,
          -21.95643424987793,
          30.100664138793945,
          6.395697116851807,
          -60.95280456542969,
          75.45079803466797,
          -15.894850730895996,
          -37.367469787597656,
          32.39796829223633,
          28.173912048339844,
          -4.28668737411499,
          -28.672266006469727,
          45.78585433959961,
          58.451904296875,
          22.516876220703125,
          -39.881412506103516,
          63.71967315673828,
          65.06104278564453,
          76.82842254638672,
          -26.592979431152344,
          -24.46929931640625,
          -39.380653381347656,
          28.57781410217285,
          -3.998054027557373,
          -0.5952749252319336,
          -12.594327926635742,
          -27.813302993774414,
          60.48756790161133,
          -42.426021575927734,
          28.376220703125,
          -43.88246536254883,
          -16.48259162902832,
          31.830219268798828,
          -21.476716995239258,
          54.75296401977539,
          -32.29734802246094,
          -54.31528854370117,
          -38.24541091918945,
          38.37314987182617,
          12.899469375610352,
          39.428985595703125,
          -29.119239807128906,
          11.051558494567871,
          -25.576112747192383,
          62.71073913574219,
          -4.034265041351318,
          -51.1063117980957,
          46.82534408569336,
          -14.3391695022583,
          -23.6982364654541,
          37.497352600097656,
          43.88492965698242,
          -5.340697288513184,
          67.59394836425781,
          51.80241394042969,
          43.66672134399414,
          -19.33025360107422,
          38.440208435058594,
          47.81740951538086,
          -23.863632202148438,
          21.72066879272461,
          -56.39487075805664,
          -26.845495223999023,
          -62.341766357421875,
          26.767492294311523,
          -54.03977584838867,
          -14.882318496704102,
          18.487091064453125,
          -17.248098373413086,
          55.836181640625,
          -3.8625741004943848,
          -31.30190658569336,
          -32.71934127807617,
          -56.75101852416992,
          -8.527528762817383,
          4.6551432609558105,
          -44.08494186401367,
          21.226924896240234,
          -51.72532653808594,
          -4.555069923400879,
          35.395782470703125,
          58.68690872192383,
          17.143020629882812,
          -45.34317398071289,
          71.66350555419922,
          -2.4075536727905273,
          -24.519649505615234,
          6.979225158691406,
          -32.06706237792969,
          -6.543171405792236,
          -27.8385066986084,
          -19.326448440551758,
          -3.1408791542053223,
          -13.584927558898926,
          37.51572799682617,
          -12.979522705078125,
          8.790733337402344,
          -38.2176399230957,
          -15.265957832336426,
          -43.0869140625,
          24.150432586669922,
          -32.553741455078125,
          42.80523681640625,
          -20.2269229888916,
          26.172243118286133,
          20.841716766357422,
          -31.684370040893555
         ],
         "z": [
          16.747737884521484,
          -28.302587509155273,
          -15.387606620788574,
          -5.26487398147583,
          59.622196197509766,
          -23.71224594116211,
          -19.407625198364258,
          -10.888773918151855,
          -6.281877040863037,
          -37.861907958984375,
          13.082134246826172,
          52.745487213134766,
          -7.638936996459961,
          -9.322281837463379,
          -12.850776672363281,
          8.706506729125977,
          -7.179031848907471,
          -16.5192928314209,
          26.352581024169922,
          59.74430465698242,
          -32.98171615600586,
          60.58759307861328,
          62.17180252075195,
          -7.07945442199707,
          10.467962265014648,
          169.05845642089844,
          -20.320831298828125,
          -15.249897003173828,
          66.91205596923828,
          33.84990692138672,
          63.0340576171875,
          65.34526062011719,
          1.9039156436920166,
          -9.415342330932617,
          -37.03081512451172,
          -16.008718490600586,
          -37.851192474365234,
          69.73693084716797,
          -30.23509979248047,
          -46.74509048461914,
          30.736330032348633,
          -11.649868965148926,
          -30.4789981842041,
          -25.58558464050293,
          68.52616119384766,
          -6.926087856292725,
          60.320220947265625,
          -27.993511199951172,
          -18.522811889648438,
          -33.84019088745117,
          -27.25566291809082,
          -24.882503509521484,
          -43.55142593383789,
          69.69763946533203,
          3.9599342346191406,
          -37.05636215209961,
          -7.99753999710083,
          4.766770362854004,
          65.8622817993164,
          38.04500961303711,
          -5.897201061248779,
          -35.05271911621094,
          0.9366888403892517,
          -10.41417121887207,
          -24.94561195373535,
          69.44425964355469,
          -22.686059951782227,
          43.5820198059082,
          -44.2845573425293,
          -20.840511322021484,
          -15.424696922302246,
          52.930782318115234,
          47.59563064575195,
          -13.718257904052734,
          -38.59417724609375,
          48.002994537353516,
          46.287071228027344,
          -14.583669662475586,
          -30.56937026977539,
          18.292268753051758,
          -24.00295639038086,
          49.15205383300781,
          50.122989654541016,
          -30.962081909179688,
          -27.3330135345459,
          -25.644102096557617,
          6.500185966491699,
          -19.31096839904785,
          -23.397666931152344,
          0.9568114280700684,
          -15.410233497619629,
          -12.18359088897705,
          56.012874603271484,
          -4.892167568206787,
          -18.60458755493164,
          -6.024188041687012,
          13.825575828552246,
          -15.349796295166016,
          -32.71229934692383,
          -5.67647123336792,
          2.747443675994873,
          -2.24479603767395,
          -6.187450408935547,
          -46.06362533569336,
          44.9372444152832,
          -0.08110527694225311,
          -10.526844024658203,
          -11.398995399475098,
          57.84882354736328,
          52.318565368652344,
          -32.94112014770508,
          -26.79580307006836,
          8.476142883300781,
          -4.400233268737793,
          51.08893585205078,
          -24.383291244506836,
          49.017757415771484,
          -4.789868354797363,
          -33.95624542236328,
          56.001914978027344,
          39.616397857666016,
          10.628463745117188,
          -41.971282958984375,
          10.840155601501465,
          60.86234664916992,
          30.418115615844727,
          49.772918701171875,
          55.456241607666016,
          -21.082942962646484,
          4.347377777099609,
          21.94366455078125,
          -11.422548294067383,
          -4.485416412353516,
          -13.755136489868164,
          -41.363914489746094,
          -11.618596076965332,
          -17.210481643676758,
          -31.143510818481445,
          1.267395257949829,
          -9.043188095092773,
          -30.89710235595703
         ]
        }
       ],
       "layout": {
        "coloraxis": {
         "colorbar": {
          "title": {
           "text": "color"
          }
         },
         "colorscale": [
          [
           0,
           "#0d0887"
          ],
          [
           0.1111111111111111,
           "#46039f"
          ],
          [
           0.2222222222222222,
           "#7201a8"
          ],
          [
           0.3333333333333333,
           "#9c179e"
          ],
          [
           0.4444444444444444,
           "#bd3786"
          ],
          [
           0.5555555555555556,
           "#d8576b"
          ],
          [
           0.6666666666666666,
           "#ed7953"
          ],
          [
           0.7777777777777778,
           "#fb9f3a"
          ],
          [
           0.8888888888888888,
           "#fdca26"
          ],
          [
           1,
           "#f0f921"
          ]
         ]
        },
        "legend": {
         "tracegroupgap": 0
        },
        "margin": {
         "t": 60
        },
        "scene": {
         "domain": {
          "x": [
           0,
           1
          ],
          "y": [
           0,
           1
          ]
         },
         "xaxis": {
          "title": {
           "text": "0"
          }
         },
         "yaxis": {
          "title": {
           "text": "1"
          }
         },
         "zaxis": {
          "title": {
           "text": "2"
          }
         }
        },
        "template": {
         "data": {
          "bar": [
           {
            "error_x": {
             "color": "#2a3f5f"
            },
            "error_y": {
             "color": "#2a3f5f"
            },
            "marker": {
             "line": {
              "color": "#E5ECF6",
              "width": 0.5
             },
             "pattern": {
              "fillmode": "overlay",
              "size": 10,
              "solidity": 0.2
             }
            },
            "type": "bar"
           }
          ],
          "barpolar": [
           {
            "marker": {
             "line": {
              "color": "#E5ECF6",
              "width": 0.5
             },
             "pattern": {
              "fillmode": "overlay",
              "size": 10,
              "solidity": 0.2
             }
            },
            "type": "barpolar"
           }
          ],
          "carpet": [
           {
            "aaxis": {
             "endlinecolor": "#2a3f5f",
             "gridcolor": "white",
             "linecolor": "white",
             "minorgridcolor": "white",
             "startlinecolor": "#2a3f5f"
            },
            "baxis": {
             "endlinecolor": "#2a3f5f",
             "gridcolor": "white",
             "linecolor": "white",
             "minorgridcolor": "white",
             "startlinecolor": "#2a3f5f"
            },
            "type": "carpet"
           }
          ],
          "choropleth": [
           {
            "colorbar": {
             "outlinewidth": 0,
             "ticks": ""
            },
            "type": "choropleth"
           }
          ],
          "contour": [
           {
            "colorbar": {
             "outlinewidth": 0,
             "ticks": ""
            },
            "colorscale": [
             [
              0,
              "#0d0887"
             ],
             [
              0.1111111111111111,
              "#46039f"
             ],
             [
              0.2222222222222222,
              "#7201a8"
             ],
             [
              0.3333333333333333,
              "#9c179e"
             ],
             [
              0.4444444444444444,
              "#bd3786"
             ],
             [
              0.5555555555555556,
              "#d8576b"
             ],
             [
              0.6666666666666666,
              "#ed7953"
             ],
             [
              0.7777777777777778,
              "#fb9f3a"
             ],
             [
              0.8888888888888888,
              "#fdca26"
             ],
             [
              1,
              "#f0f921"
             ]
            ],
            "type": "contour"
           }
          ],
          "contourcarpet": [
           {
            "colorbar": {
             "outlinewidth": 0,
             "ticks": ""
            },
            "type": "contourcarpet"
           }
          ],
          "heatmap": [
           {
            "colorbar": {
             "outlinewidth": 0,
             "ticks": ""
            },
            "colorscale": [
             [
              0,
              "#0d0887"
             ],
             [
              0.1111111111111111,
              "#46039f"
             ],
             [
              0.2222222222222222,
              "#7201a8"
             ],
             [
              0.3333333333333333,
              "#9c179e"
             ],
             [
              0.4444444444444444,
              "#bd3786"
             ],
             [
              0.5555555555555556,
              "#d8576b"
             ],
             [
              0.6666666666666666,
              "#ed7953"
             ],
             [
              0.7777777777777778,
              "#fb9f3a"
             ],
             [
              0.8888888888888888,
              "#fdca26"
             ],
             [
              1,
              "#f0f921"
             ]
            ],
            "type": "heatmap"
           }
          ],
          "heatmapgl": [
           {
            "colorbar": {
             "outlinewidth": 0,
             "ticks": ""
            },
            "colorscale": [
             [
              0,
              "#0d0887"
             ],
             [
              0.1111111111111111,
              "#46039f"
             ],
             [
              0.2222222222222222,
              "#7201a8"
             ],
             [
              0.3333333333333333,
              "#9c179e"
             ],
             [
              0.4444444444444444,
              "#bd3786"
             ],
             [
              0.5555555555555556,
              "#d8576b"
             ],
             [
              0.6666666666666666,
              "#ed7953"
             ],
             [
              0.7777777777777778,
              "#fb9f3a"
             ],
             [
              0.8888888888888888,
              "#fdca26"
             ],
             [
              1,
              "#f0f921"
             ]
            ],
            "type": "heatmapgl"
           }
          ],
          "histogram": [
           {
            "marker": {
             "pattern": {
              "fillmode": "overlay",
              "size": 10,
              "solidity": 0.2
             }
            },
            "type": "histogram"
           }
          ],
          "histogram2d": [
           {
            "colorbar": {
             "outlinewidth": 0,
             "ticks": ""
            },
            "colorscale": [
             [
              0,
              "#0d0887"
             ],
             [
              0.1111111111111111,
              "#46039f"
             ],
             [
              0.2222222222222222,
              "#7201a8"
             ],
             [
              0.3333333333333333,
              "#9c179e"
             ],
             [
              0.4444444444444444,
              "#bd3786"
             ],
             [
              0.5555555555555556,
              "#d8576b"
             ],
             [
              0.6666666666666666,
              "#ed7953"
             ],
             [
              0.7777777777777778,
              "#fb9f3a"
             ],
             [
              0.8888888888888888,
              "#fdca26"
             ],
             [
              1,
              "#f0f921"
             ]
            ],
            "type": "histogram2d"
           }
          ],
          "histogram2dcontour": [
           {
            "colorbar": {
             "outlinewidth": 0,
             "ticks": ""
            },
            "colorscale": [
             [
              0,
              "#0d0887"
             ],
             [
              0.1111111111111111,
              "#46039f"
             ],
             [
              0.2222222222222222,
              "#7201a8"
             ],
             [
              0.3333333333333333,
              "#9c179e"
             ],
             [
              0.4444444444444444,
              "#bd3786"
             ],
             [
              0.5555555555555556,
              "#d8576b"
             ],
             [
              0.6666666666666666,
              "#ed7953"
             ],
             [
              0.7777777777777778,
              "#fb9f3a"
             ],
             [
              0.8888888888888888,
              "#fdca26"
             ],
             [
              1,
              "#f0f921"
             ]
            ],
            "type": "histogram2dcontour"
           }
          ],
          "mesh3d": [
           {
            "colorbar": {
             "outlinewidth": 0,
             "ticks": ""
            },
            "type": "mesh3d"
           }
          ],
          "parcoords": [
           {
            "line": {
             "colorbar": {
              "outlinewidth": 0,
              "ticks": ""
             }
            },
            "type": "parcoords"
           }
          ],
          "pie": [
           {
            "automargin": true,
            "type": "pie"
           }
          ],
          "scatter": [
           {
            "fillpattern": {
             "fillmode": "overlay",
             "size": 10,
             "solidity": 0.2
            },
            "type": "scatter"
           }
          ],
          "scatter3d": [
           {
            "line": {
             "colorbar": {
              "outlinewidth": 0,
              "ticks": ""
             }
            },
            "marker": {
             "colorbar": {
              "outlinewidth": 0,
              "ticks": ""
             }
            },
            "type": "scatter3d"
           }
          ],
          "scattercarpet": [
           {
            "marker": {
             "colorbar": {
              "outlinewidth": 0,
              "ticks": ""
             }
            },
            "type": "scattercarpet"
           }
          ],
          "scattergeo": [
           {
            "marker": {
             "colorbar": {
              "outlinewidth": 0,
              "ticks": ""
             }
            },
            "type": "scattergeo"
           }
          ],
          "scattergl": [
           {
            "marker": {
             "colorbar": {
              "outlinewidth": 0,
              "ticks": ""
             }
            },
            "type": "scattergl"
           }
          ],
          "scattermapbox": [
           {
            "marker": {
             "colorbar": {
              "outlinewidth": 0,
              "ticks": ""
             }
            },
            "type": "scattermapbox"
           }
          ],
          "scatterpolar": [
           {
            "marker": {
             "colorbar": {
              "outlinewidth": 0,
              "ticks": ""
             }
            },
            "type": "scatterpolar"
           }
          ],
          "scatterpolargl": [
           {
            "marker": {
             "colorbar": {
              "outlinewidth": 0,
              "ticks": ""
             }
            },
            "type": "scatterpolargl"
           }
          ],
          "scatterternary": [
           {
            "marker": {
             "colorbar": {
              "outlinewidth": 0,
              "ticks": ""
             }
            },
            "type": "scatterternary"
           }
          ],
          "surface": [
           {
            "colorbar": {
             "outlinewidth": 0,
             "ticks": ""
            },
            "colorscale": [
             [
              0,
              "#0d0887"
             ],
             [
              0.1111111111111111,
              "#46039f"
             ],
             [
              0.2222222222222222,
              "#7201a8"
             ],
             [
              0.3333333333333333,
              "#9c179e"
             ],
             [
              0.4444444444444444,
              "#bd3786"
             ],
             [
              0.5555555555555556,
              "#d8576b"
             ],
             [
              0.6666666666666666,
              "#ed7953"
             ],
             [
              0.7777777777777778,
              "#fb9f3a"
             ],
             [
              0.8888888888888888,
              "#fdca26"
             ],
             [
              1,
              "#f0f921"
             ]
            ],
            "type": "surface"
           }
          ],
          "table": [
           {
            "cells": {
             "fill": {
              "color": "#EBF0F8"
             },
             "line": {
              "color": "white"
             }
            },
            "header": {
             "fill": {
              "color": "#C8D4E3"
             },
             "line": {
              "color": "white"
             }
            },
            "type": "table"
           }
          ]
         },
         "layout": {
          "annotationdefaults": {
           "arrowcolor": "#2a3f5f",
           "arrowhead": 0,
           "arrowwidth": 1
          },
          "autotypenumbers": "strict",
          "coloraxis": {
           "colorbar": {
            "outlinewidth": 0,
            "ticks": ""
           }
          },
          "colorscale": {
           "diverging": [
            [
             0,
             "#8e0152"
            ],
            [
             0.1,
             "#c51b7d"
            ],
            [
             0.2,
             "#de77ae"
            ],
            [
             0.3,
             "#f1b6da"
            ],
            [
             0.4,
             "#fde0ef"
            ],
            [
             0.5,
             "#f7f7f7"
            ],
            [
             0.6,
             "#e6f5d0"
            ],
            [
             0.7,
             "#b8e186"
            ],
            [
             0.8,
             "#7fbc41"
            ],
            [
             0.9,
             "#4d9221"
            ],
            [
             1,
             "#276419"
            ]
           ],
           "sequential": [
            [
             0,
             "#0d0887"
            ],
            [
             0.1111111111111111,
             "#46039f"
            ],
            [
             0.2222222222222222,
             "#7201a8"
            ],
            [
             0.3333333333333333,
             "#9c179e"
            ],
            [
             0.4444444444444444,
             "#bd3786"
            ],
            [
             0.5555555555555556,
             "#d8576b"
            ],
            [
             0.6666666666666666,
             "#ed7953"
            ],
            [
             0.7777777777777778,
             "#fb9f3a"
            ],
            [
             0.8888888888888888,
             "#fdca26"
            ],
            [
             1,
             "#f0f921"
            ]
           ],
           "sequentialminus": [
            [
             0,
             "#0d0887"
            ],
            [
             0.1111111111111111,
             "#46039f"
            ],
            [
             0.2222222222222222,
             "#7201a8"
            ],
            [
             0.3333333333333333,
             "#9c179e"
            ],
            [
             0.4444444444444444,
             "#bd3786"
            ],
            [
             0.5555555555555556,
             "#d8576b"
            ],
            [
             0.6666666666666666,
             "#ed7953"
            ],
            [
             0.7777777777777778,
             "#fb9f3a"
            ],
            [
             0.8888888888888888,
             "#fdca26"
            ],
            [
             1,
             "#f0f921"
            ]
           ]
          },
          "colorway": [
           "#636efa",
           "#EF553B",
           "#00cc96",
           "#ab63fa",
           "#FFA15A",
           "#19d3f3",
           "#FF6692",
           "#B6E880",
           "#FF97FF",
           "#FECB52"
          ],
          "font": {
           "color": "#2a3f5f"
          },
          "geo": {
           "bgcolor": "white",
           "lakecolor": "white",
           "landcolor": "#E5ECF6",
           "showlakes": true,
           "showland": true,
           "subunitcolor": "white"
          },
          "hoverlabel": {
           "align": "left"
          },
          "hovermode": "closest",
          "mapbox": {
           "style": "light"
          },
          "paper_bgcolor": "white",
          "plot_bgcolor": "#E5ECF6",
          "polar": {
           "angularaxis": {
            "gridcolor": "white",
            "linecolor": "white",
            "ticks": ""
           },
           "bgcolor": "#E5ECF6",
           "radialaxis": {
            "gridcolor": "white",
            "linecolor": "white",
            "ticks": ""
           }
          },
          "scene": {
           "xaxis": {
            "backgroundcolor": "#E5ECF6",
            "gridcolor": "white",
            "gridwidth": 2,
            "linecolor": "white",
            "showbackground": true,
            "ticks": "",
            "zerolinecolor": "white"
           },
           "yaxis": {
            "backgroundcolor": "#E5ECF6",
            "gridcolor": "white",
            "gridwidth": 2,
            "linecolor": "white",
            "showbackground": true,
            "ticks": "",
            "zerolinecolor": "white"
           },
           "zaxis": {
            "backgroundcolor": "#E5ECF6",
            "gridcolor": "white",
            "gridwidth": 2,
            "linecolor": "white",
            "showbackground": true,
            "ticks": "",
            "zerolinecolor": "white"
           }
          },
          "shapedefaults": {
           "line": {
            "color": "#2a3f5f"
           }
          },
          "ternary": {
           "aaxis": {
            "gridcolor": "white",
            "linecolor": "white",
            "ticks": ""
           },
           "baxis": {
            "gridcolor": "white",
            "linecolor": "white",
            "ticks": ""
           },
           "bgcolor": "#E5ECF6",
           "caxis": {
            "gridcolor": "white",
            "linecolor": "white",
            "ticks": ""
           }
          },
          "title": {
           "x": 0.05
          },
          "xaxis": {
           "automargin": true,
           "gridcolor": "white",
           "linecolor": "white",
           "ticks": "",
           "title": {
            "standoff": 15
           },
           "zerolinecolor": "white",
           "zerolinewidth": 2
          },
          "yaxis": {
           "automargin": true,
           "gridcolor": "white",
           "linecolor": "white",
           "ticks": "",
           "title": {
            "standoff": 15
           },
           "zerolinecolor": "white",
           "zerolinewidth": 2
          }
         }
        }
       }
      }
     },
     "metadata": {},
     "output_type": "display_data"
    }
   ],
   "source": [
    "import plotly.express as px\n",
    "\n",
    "model = TSNE(\n",
    "    n_components=3,\n",
    "    perplexity=10,\n",
    "    metric=\"cosine\",\n",
    "    max_iter=2000,\n",
    "    method=\"exact\",\n",
    "    verbose=2,\n",
    ").fit_transform(feature_vectors)\n",
    "\n",
    "fig = px.scatter_3d(model, x=0, y=1, z=2, color=list_label_id)\n",
    "fig.show()"
   ]
  },
  {
   "cell_type": "code",
   "execution_count": null,
   "metadata": {},
   "outputs": [],
   "source": [
    "feature_vectors.max(), feature_vectors.min()"
   ]
  },
  {
   "cell_type": "code",
   "execution_count": null,
   "metadata": {},
   "outputs": [],
   "source": []
  }
 ],
 "metadata": {
  "kernelspec": {
   "display_name": ".venv",
   "language": "python",
   "name": "python3"
  },
  "language_info": {
   "codemirror_mode": {
    "name": "ipython",
    "version": 3
   },
   "file_extension": ".py",
   "mimetype": "text/x-python",
   "name": "python",
   "nbconvert_exporter": "python",
   "pygments_lexer": "ipython3",
   "version": "3.10.16"
  }
 },
 "nbformat": 4,
 "nbformat_minor": 2
}
