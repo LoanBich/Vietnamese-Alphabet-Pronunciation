{
 "cells": [
  {
   "cell_type": "code",
   "execution_count": 13,
   "metadata": {},
   "outputs": [],
   "source": [
    "%matplotlib inline\n",
    "\n",
    "import numpy as np\n",
    "from sklearn.manifold import TSNE\n",
    "from torch.nn.utils.rnn import pad_sequence\n",
    "\n",
    "from dataset import VietAlphabetDataset, id2label\n",
    "from feature_extractor import wav2vec2\n",
    "from models import fit_model, save_model\n",
    "\n",
    "dataset = VietAlphabetDataset()"
   ]
  },
  {
   "cell_type": "code",
   "execution_count": 14,
   "metadata": {},
   "outputs": [
    {
     "data": {
      "text/html": [
       "<pre style=\"white-space:pre;overflow-x:auto;line-height:normal;font-family:Menlo,'DejaVu Sans Mono',consolas,'Courier New',monospace\"></pre>\n"
      ],
      "text/plain": []
     },
     "metadata": {},
     "output_type": "display_data"
    },
    {
     "data": {
      "text/plain": [
       "\n",
       "\u001b[1;35marray\u001b[0m\u001b[1m(\u001b[0m\u001b[1m[\u001b[0m\u001b[1;36m0\u001b[0m, \u001b[1;36m0\u001b[0m, \u001b[1;36m0\u001b[0m, \u001b[1;36m0\u001b[0m, \u001b[1;36m0\u001b[0m, \u001b[1;36m0\u001b[0m, \u001b[1;36m0\u001b[0m, \u001b[1;36m0\u001b[0m, \u001b[1;36m0\u001b[0m, \u001b[1;36m0\u001b[0m, \u001b[1;36m0\u001b[0m, \u001b[1;36m0\u001b[0m, \u001b[1;36m0\u001b[0m, \u001b[1;36m0\u001b[0m, \u001b[1;36m0\u001b[0m, \u001b[1;36m0\u001b[0m, \u001b[1;36m1\u001b[0m, \u001b[1;36m1\u001b[0m, \u001b[1;36m1\u001b[0m, \u001b[1;36m1\u001b[0m, \u001b[1;36m1\u001b[0m, \u001b[1;36m1\u001b[0m,\n",
       "       \u001b[1;36m1\u001b[0m, \u001b[1;36m1\u001b[0m, \u001b[1;36m1\u001b[0m, \u001b[1;36m1\u001b[0m, \u001b[1;36m1\u001b[0m, \u001b[1;36m1\u001b[0m, \u001b[1;36m1\u001b[0m, \u001b[1;36m1\u001b[0m, \u001b[1;36m1\u001b[0m, \u001b[1;36m1\u001b[0m, \u001b[1;36m3\u001b[0m, \u001b[1;36m3\u001b[0m, \u001b[1;36m3\u001b[0m, \u001b[1;36m3\u001b[0m, \u001b[1;36m3\u001b[0m, \u001b[1;36m3\u001b[0m, \u001b[1;36m3\u001b[0m, \u001b[1;36m3\u001b[0m, \u001b[1;36m3\u001b[0m, \u001b[1;36m3\u001b[0m, \u001b[1;36m3\u001b[0m, \u001b[1;36m3\u001b[0m,\n",
       "       \u001b[1;36m3\u001b[0m, \u001b[1;36m3\u001b[0m, \u001b[1;36m3\u001b[0m, \u001b[1;36m3\u001b[0m, \u001b[1;36m3\u001b[0m, \u001b[1;36m3\u001b[0m, \u001b[1;36m3\u001b[0m, \u001b[1;36m4\u001b[0m, \u001b[1;36m4\u001b[0m, \u001b[1;36m4\u001b[0m, \u001b[1;36m4\u001b[0m, \u001b[1;36m4\u001b[0m, \u001b[1;36m4\u001b[0m, \u001b[1;36m4\u001b[0m, \u001b[1;36m4\u001b[0m, \u001b[1;36m4\u001b[0m, \u001b[1;36m4\u001b[0m, \u001b[1;36m4\u001b[0m, \u001b[1;36m4\u001b[0m, \u001b[1;36m4\u001b[0m, \u001b[1;36m4\u001b[0m, \u001b[1;36m4\u001b[0m,\n",
       "       \u001b[1;36m4\u001b[0m, \u001b[1;36m4\u001b[0m, \u001b[1;36m4\u001b[0m, \u001b[1;36m4\u001b[0m, \u001b[1;36m6\u001b[0m, \u001b[1;36m6\u001b[0m, \u001b[1;36m6\u001b[0m, \u001b[1;36m6\u001b[0m, \u001b[1;36m6\u001b[0m, \u001b[1;36m6\u001b[0m, \u001b[1;36m6\u001b[0m, \u001b[1;36m6\u001b[0m, \u001b[1;36m6\u001b[0m, \u001b[1;36m6\u001b[0m, \u001b[1;36m6\u001b[0m, \u001b[1;36m6\u001b[0m, \u001b[1;36m6\u001b[0m, \u001b[1;36m6\u001b[0m, \u001b[1;36m6\u001b[0m, \u001b[1;36m6\u001b[0m, \u001b[1;36m6\u001b[0m, \u001b[1;36m6\u001b[0m,\n",
       "       \u001b[1;36m7\u001b[0m, \u001b[1;36m7\u001b[0m, \u001b[1;36m7\u001b[0m, \u001b[1;36m7\u001b[0m, \u001b[1;36m7\u001b[0m, \u001b[1;36m7\u001b[0m, \u001b[1;36m7\u001b[0m, \u001b[1;36m7\u001b[0m, \u001b[1;36m7\u001b[0m, \u001b[1;36m7\u001b[0m, \u001b[1;36m7\u001b[0m, \u001b[1;36m7\u001b[0m, \u001b[1;36m7\u001b[0m, \u001b[1;36m7\u001b[0m, \u001b[1;36m7\u001b[0m, \u001b[1;36m7\u001b[0m, \u001b[1;36m7\u001b[0m, \u001b[1;36m2\u001b[0m, \u001b[1;36m2\u001b[0m, \u001b[1;36m2\u001b[0m, \u001b[1;36m2\u001b[0m, \u001b[1;36m2\u001b[0m,\n",
       "       \u001b[1;36m2\u001b[0m, \u001b[1;36m2\u001b[0m, \u001b[1;36m2\u001b[0m, \u001b[1;36m2\u001b[0m, \u001b[1;36m2\u001b[0m, \u001b[1;36m2\u001b[0m, \u001b[1;36m2\u001b[0m, \u001b[1;36m2\u001b[0m, \u001b[1;36m2\u001b[0m, \u001b[1;36m2\u001b[0m, \u001b[1;36m2\u001b[0m, \u001b[1;36m2\u001b[0m, \u001b[1;36m2\u001b[0m, \u001b[1;36m2\u001b[0m, \u001b[1;36m5\u001b[0m, \u001b[1;36m5\u001b[0m, \u001b[1;36m5\u001b[0m, \u001b[1;36m5\u001b[0m, \u001b[1;36m5\u001b[0m, \u001b[1;36m5\u001b[0m, \u001b[1;36m5\u001b[0m, \u001b[1;36m5\u001b[0m,\n",
       "       \u001b[1;36m5\u001b[0m, \u001b[1;36m5\u001b[0m, \u001b[1;36m5\u001b[0m, \u001b[1;36m5\u001b[0m, \u001b[1;36m5\u001b[0m, \u001b[1;36m5\u001b[0m, \u001b[1;36m5\u001b[0m, \u001b[1;36m5\u001b[0m, \u001b[1;36m5\u001b[0m\u001b[1m]\u001b[0m\u001b[1m)\u001b[0m"
      ]
     },
     "execution_count": 14,
     "metadata": {},
     "output_type": "execute_result"
    }
   ],
   "source": [
    "feature_vectors = []\n",
    "labels = []\n",
    "\n",
    "for waveform, label in dataset:\n",
    "    feat = wav2vec2(waveform)\n",
    "\n",
    "    feature_vectors.append(feat)\n",
    "    labels.append(label)\n",
    "\n",
    "feature_vectors = pad_sequence(feature_vectors, batch_first=True).numpy()\n",
    "labels = np.asarray(labels)\n",
    "labels"
   ]
  },
  {
   "cell_type": "code",
   "execution_count": 15,
   "metadata": {},
   "outputs": [
    {
     "data": {
      "text/html": [
       "<pre style=\"white-space:pre;overflow-x:auto;line-height:normal;font-family:Menlo,'DejaVu Sans Mono',consolas,'Courier New',monospace\"></pre>\n"
      ],
      "text/plain": []
     },
     "metadata": {},
     "output_type": "display_data"
    },
    {
     "data": {
      "text/plain": [
       "\u001b[1m(\u001b[0m\u001b[1m(\u001b[0m\u001b[1;36m141\u001b[0m, \u001b[1;36m86\u001b[0m\u001b[1m)\u001b[0m, \u001b[1m(\u001b[0m\u001b[1;36m141\u001b[0m,\u001b[1m)\u001b[0m\u001b[1m)\u001b[0m"
      ]
     },
     "execution_count": 15,
     "metadata": {},
     "output_type": "execute_result"
    }
   ],
   "source": [
    "feature_vectors.shape, labels.shape"
   ]
  },
  {
   "cell_type": "code",
   "execution_count": 16,
   "metadata": {},
   "outputs": [
    {
     "name": "stdout",
     "output_type": "stream",
     "text": [
      "Iteration 1, loss = 2.08566737\n",
      "Iteration 2, loss = 2.98698401\n",
      "Iteration 3, loss = 2.07218695\n",
      "Iteration 4, loss = 2.13688493\n",
      "Iteration 5, loss = 2.09873605\n",
      "Iteration 6, loss = 2.07945991\n",
      "Iteration 7, loss = 2.07447124\n",
      "Iteration 8, loss = 2.05559897\n",
      "Iteration 9, loss = 2.04532099\n",
      "Iteration 10, loss = 2.04335237\n",
      "Iteration 11, loss = 2.02519488\n",
      "Iteration 12, loss = 2.01448941\n",
      "Iteration 13, loss = 2.00564075\n",
      "Iteration 14, loss = 1.99126792\n",
      "Iteration 15, loss = 1.97296166\n",
      "Iteration 16, loss = 1.96006501\n",
      "Iteration 17, loss = 1.95244062\n",
      "Iteration 18, loss = 1.94271445\n",
      "Iteration 19, loss = 1.93276608\n",
      "Iteration 20, loss = 1.92211962\n",
      "Iteration 21, loss = 1.91556787\n",
      "Iteration 22, loss = 1.90960193\n",
      "Iteration 23, loss = 1.90096593\n",
      "Iteration 24, loss = 1.89585710\n",
      "Iteration 25, loss = 1.89284956\n",
      "Iteration 26, loss = 1.88612854\n",
      "Iteration 27, loss = 1.88256729\n",
      "Iteration 28, loss = 1.87969196\n",
      "Iteration 29, loss = 1.87470651\n",
      "Iteration 30, loss = 1.87078428\n",
      "Iteration 31, loss = 1.86837876\n",
      "Iteration 32, loss = 1.86398339\n",
      "Iteration 33, loss = 1.85926378\n",
      "Iteration 34, loss = 1.85718203\n",
      "Iteration 35, loss = 1.85550940\n",
      "Iteration 36, loss = 1.85041368\n",
      "Iteration 37, loss = 1.84634006\n",
      "Iteration 38, loss = 1.84548604\n",
      "Iteration 39, loss = 1.84417939\n",
      "Iteration 40, loss = 1.83776081\n",
      "Iteration 41, loss = 1.83504272\n",
      "Iteration 42, loss = 1.83351302\n",
      "Iteration 43, loss = 1.83351946\n",
      "Iteration 44, loss = 1.82783127\n",
      "Iteration 45, loss = 1.82356334\n",
      "Iteration 46, loss = 1.82279766\n",
      "Iteration 47, loss = 1.81814229\n",
      "Iteration 48, loss = 1.81616819\n",
      "Iteration 49, loss = 1.81720614\n",
      "Iteration 50, loss = 1.81342781\n",
      "Iteration 51, loss = 1.80842912\n",
      "Iteration 52, loss = 1.80704224\n",
      "Iteration 53, loss = 1.80616522\n",
      "Iteration 54, loss = 1.80455494\n",
      "Iteration 55, loss = 1.80112541\n",
      "Iteration 56, loss = 1.80063653\n",
      "Iteration 57, loss = 1.80045724\n",
      "Iteration 58, loss = 1.79838657\n",
      "Iteration 59, loss = 1.79507113\n",
      "Iteration 60, loss = 1.79476666\n",
      "Iteration 61, loss = 1.79587817\n",
      "Iteration 62, loss = 1.79098856\n",
      "Iteration 63, loss = 1.79059458\n",
      "Iteration 64, loss = 1.79172122\n",
      "Iteration 65, loss = 1.78663433\n",
      "Iteration 66, loss = 1.78885829\n",
      "Iteration 67, loss = 1.79218554\n",
      "Iteration 68, loss = 1.78358400\n",
      "Iteration 69, loss = 1.78601062\n",
      "Iteration 70, loss = 1.79219055\n",
      "Iteration 71, loss = 1.78079641\n",
      "Iteration 72, loss = 1.78531098\n",
      "Iteration 73, loss = 1.78497040\n",
      "Iteration 74, loss = 1.77817488\n",
      "Iteration 75, loss = 1.78399789\n",
      "Iteration 76, loss = 1.78620410\n",
      "Iteration 77, loss = 1.77576983\n",
      "Iteration 78, loss = 1.78827631\n",
      "Iteration 79, loss = 1.78238094\n",
      "Iteration 80, loss = 1.77911985\n",
      "Iteration 81, loss = 1.78039491\n",
      "Iteration 82, loss = 1.77557480\n",
      "Iteration 83, loss = 1.77796793\n",
      "Iteration 84, loss = 1.77309203\n",
      "Iteration 85, loss = 1.77396142\n",
      "Iteration 86, loss = 1.77371240\n",
      "Iteration 87, loss = 1.77202761\n",
      "Iteration 88, loss = 1.77277565\n",
      "Iteration 89, loss = 1.77076828\n",
      "Iteration 90, loss = 1.77044642\n",
      "Iteration 91, loss = 1.77086151\n",
      "Iteration 92, loss = 1.76967597\n",
      "Iteration 93, loss = 1.76861358\n",
      "Iteration 94, loss = 1.76929176\n",
      "Iteration 95, loss = 1.76912630\n",
      "Iteration 96, loss = 1.76595080\n",
      "Iteration 97, loss = 1.76813853\n",
      "Iteration 98, loss = 1.76699054\n",
      "Iteration 99, loss = 1.76522863\n",
      "Iteration 100, loss = 1.76504135\n",
      "Iteration 101, loss = 1.76563525\n",
      "Iteration 102, loss = 1.76505482\n",
      "Iteration 103, loss = 1.76285589\n",
      "Iteration 104, loss = 1.76185071\n",
      "Iteration 105, loss = 1.76440549\n",
      "Iteration 106, loss = 1.75811076\n",
      "Iteration 107, loss = 1.76281416\n",
      "Iteration 108, loss = 1.76976979\n",
      "Iteration 109, loss = 1.79867601\n",
      "Iteration 110, loss = 1.76369500\n",
      "Iteration 111, loss = 1.76635659\n",
      "Iteration 112, loss = 1.78789127\n",
      "Iteration 113, loss = 1.75960267\n",
      "Iteration 114, loss = 1.75667453\n",
      "Iteration 115, loss = 1.76580775\n",
      "Iteration 116, loss = 1.76429141\n",
      "Iteration 117, loss = 1.75377917\n",
      "Iteration 118, loss = 1.77000606\n",
      "Iteration 119, loss = 1.76944590\n",
      "Iteration 120, loss = 1.75218725\n",
      "Iteration 121, loss = 1.76698494\n",
      "Iteration 122, loss = 1.74759674\n",
      "Iteration 123, loss = 1.75618052\n",
      "Iteration 124, loss = 1.74870932\n",
      "Iteration 125, loss = 1.74700820\n",
      "Iteration 126, loss = 1.75695872\n",
      "Iteration 127, loss = 1.74605596\n",
      "Iteration 128, loss = 1.77290523\n",
      "Iteration 129, loss = 1.74963868\n",
      "Iteration 130, loss = 1.76015377\n",
      "Iteration 131, loss = 1.76273394\n",
      "Iteration 132, loss = 1.74069476\n",
      "Iteration 133, loss = 1.75762367\n",
      "Iteration 134, loss = 1.74640214\n",
      "Iteration 135, loss = 1.74642229\n",
      "Iteration 136, loss = 1.75008821\n",
      "Iteration 137, loss = 1.74077642\n",
      "Iteration 138, loss = 1.75621545\n",
      "Iteration 139, loss = 1.74442232\n",
      "Iteration 140, loss = 1.74289668\n",
      "Iteration 141, loss = 1.75087905\n",
      "Iteration 142, loss = 1.73464501\n",
      "Iteration 143, loss = 1.74713576\n",
      "Iteration 144, loss = 1.74112189\n",
      "Iteration 145, loss = 1.73477328\n",
      "Iteration 146, loss = 1.73794734\n",
      "Iteration 147, loss = 1.73133111\n",
      "Iteration 148, loss = 1.73813331\n",
      "Iteration 149, loss = 1.73012543\n",
      "Iteration 150, loss = 1.73268306\n",
      "Iteration 151, loss = 1.72871411\n",
      "Iteration 152, loss = 1.72999847\n",
      "Iteration 153, loss = 1.72689784\n",
      "Iteration 154, loss = 1.72434568\n",
      "Iteration 155, loss = 1.72396731\n",
      "Iteration 156, loss = 1.72781992\n",
      "Iteration 157, loss = 1.72466826\n",
      "Iteration 158, loss = 1.72251964\n",
      "Iteration 159, loss = 1.71836329\n",
      "Iteration 160, loss = 1.72267628\n",
      "Iteration 161, loss = 1.72270036\n",
      "Iteration 162, loss = 1.71971464\n",
      "Iteration 163, loss = 1.71703744\n",
      "Iteration 164, loss = 1.71479750\n",
      "Iteration 165, loss = 1.71622062\n",
      "Iteration 166, loss = 1.71278048\n",
      "Iteration 167, loss = 1.71431577\n",
      "Iteration 168, loss = 1.71626782\n",
      "Iteration 169, loss = 1.72542870\n",
      "Iteration 170, loss = 1.71596372\n",
      "Iteration 171, loss = 1.71468115\n",
      "Iteration 172, loss = 1.70763123\n",
      "Iteration 173, loss = 1.70656705\n",
      "Iteration 174, loss = 1.70976388\n",
      "Iteration 175, loss = 1.70935702\n",
      "Iteration 176, loss = 1.71923959\n",
      "Iteration 177, loss = 1.72070050\n",
      "Iteration 178, loss = 1.70709145\n",
      "Iteration 179, loss = 1.70021951\n",
      "Iteration 180, loss = 1.70409060\n",
      "Iteration 181, loss = 1.70809448\n",
      "Iteration 182, loss = 1.70876348\n",
      "Iteration 183, loss = 1.70161104\n",
      "Iteration 184, loss = 1.69682634\n",
      "Iteration 185, loss = 1.70218790\n",
      "Iteration 186, loss = 1.71895170\n",
      "Iteration 187, loss = 1.71157658\n",
      "Iteration 188, loss = 1.69497955\n",
      "Iteration 189, loss = 1.69526231\n",
      "Iteration 190, loss = 1.71136618\n",
      "Iteration 191, loss = 1.70697939\n",
      "Iteration 192, loss = 1.69322956\n",
      "Iteration 193, loss = 1.69197285\n",
      "Iteration 194, loss = 1.70532620\n",
      "Iteration 195, loss = 1.70792842\n",
      "Iteration 196, loss = 1.69018495\n",
      "Iteration 197, loss = 1.70178199\n",
      "Iteration 198, loss = 1.70534599\n",
      "Iteration 199, loss = 1.69105089\n",
      "Iteration 200, loss = 1.69381881\n"
     ]
    },
    {
     "name": "stderr",
     "output_type": "stream",
     "text": [
      "/home/slime/Workspace/Vietnamese-Alphabet-Pronunciation/.venv/lib/python3.10/site-packages/sklearn/neural_network/_multilayer_perceptron.py:691: ConvergenceWarning: Stochastic Optimizer: Maximum iterations (200) reached and the optimization hasn't converged yet.\n",
      "  warnings.warn(\n"
     ]
    }
   ],
   "source": [
    "model = fit_model(feature_vectors, labels)\n",
    "save_model(model)"
   ]
  },
  {
   "cell_type": "code",
   "execution_count": 17,
   "metadata": {},
   "outputs": [
    {
     "data": {
      "text/html": [
       "<pre style=\"white-space:pre;overflow-x:auto;line-height:normal;font-family:Menlo,'DejaVu Sans Mono',consolas,'Courier New',monospace\"></pre>\n"
      ],
      "text/plain": []
     },
     "metadata": {},
     "output_type": "display_data"
    },
    {
     "data": {
      "text/plain": [
       "\u001b[1m[\u001b[0m\u001b[1m<\u001b[0m\u001b[1;95mmatplotlib.lines.Line2D\u001b[0m\u001b[39m object at \u001b[0m\u001b[1;36m0x7f9a69666580\u001b[0m\u001b[1m>\u001b[0m\u001b[1m]\u001b[0m"
      ]
     },
     "execution_count": 17,
     "metadata": {},
     "output_type": "execute_result"
    },
    {
     "data": {
      "text/html": [
       "<pre style=\"white-space:pre;overflow-x:auto;line-height:normal;font-family:Menlo,'DejaVu Sans Mono',consolas,'Courier New',monospace\"></pre>\n"
      ],
      "text/plain": []
     },
     "metadata": {},
     "output_type": "display_data"
    },
    {
     "data": {
      "image/png": "[encoded data removed]",
      "text/plain": [
       "\u001b[1m<\u001b[0m\u001b[1;95mFigure\u001b[0m\u001b[39m size 64\u001b[0m\u001b[1;36m0x480\u001b[0m\u001b[39m with \u001b[0m\u001b[1;36m1\u001b[0m\u001b[39m Axes\u001b[0m\u001b[1m>\u001b[0m"
      ]
     },
     "metadata": {},
     "output_type": "display_data"
    }
   ],
   "source": [
    "plt.plot(model.loss_curve_)"
   ]
  },
  {
   "cell_type": "code",
   "execution_count": 19,
   "metadata": {},
   "outputs": [
    {
     "data": {
      "text/html": [
       "<pre style=\"white-space:pre;overflow-x:auto;line-height:normal;font-family:Menlo,'DejaVu Sans Mono',consolas,'Courier New',monospace\"></pre>\n"
      ],
      "text/plain": []
     },
     "metadata": {},
     "output_type": "display_data"
    },
    {
     "data": {
      "text/plain": [
       "\u001b[1;35marray\u001b[0m\u001b[1m(\u001b[0m\u001b[1m[\u001b[0m\u001b[1;36m0.14768142\u001b[0m\u001b[1m]\u001b[0m, \u001b[33mdtype\u001b[0m=\u001b[35mfloat32\u001b[0m\u001b[1m)\u001b[0m"
      ]
     },
     "execution_count": 19,
     "metadata": {},
     "output_type": "execute_result"
    }
   ],
   "source": [
    "idx = 10\n",
    "label = id2label(labels[idx])\n",
    "proba = mlp.predict_proba(np.expand_dims(feature_vectors[idx], 0))\n",
    "proba[:, labels[idx]]"
   ]
  },
  {
   "cell_type": "code",
   "execution_count": 20,
   "metadata": {},
   "outputs": [
    {
     "data": {
      "text/html": [
       "<pre style=\"white-space:pre;overflow-x:auto;line-height:normal;font-family:Menlo,'DejaVu Sans Mono',consolas,'Courier New',monospace\"></pre>\n"
      ],
      "text/plain": []
     },
     "metadata": {},
     "output_type": "display_data"
    },
    {
     "data": {
      "text/plain": [
       "\u001b[1;35mnp.int64\u001b[0m\u001b[1m(\u001b[0m\u001b[1;36m0\u001b[0m\u001b[1m)\u001b[0m"
      ]
     },
     "execution_count": 20,
     "metadata": {},
     "output_type": "execute_result"
    }
   ],
   "source": [
    "labels[idx]"
   ]
  },
  {
   "cell_type": "code",
   "execution_count": 7,
   "metadata": {},
   "outputs": [
    {
     "name": "stdout",
     "output_type": "stream",
     "text": [
      "[t-SNE] Computing 91 nearest neighbors...\n",
      "[t-SNE] Indexed 141 samples in 0.000s...\n",
      "[t-SNE] Computed neighbors for 141 samples in 0.151s...\n",
      "[t-SNE] Computed conditional probabilities for sample 141 / 141\n",
      "[t-SNE] Mean sigma: 1.872073\n",
      "[t-SNE] Computed conditional probabilities in 0.013s\n",
      "[t-SNE] Iteration 50: error = 46.7683372, gradient norm = 0.3864654 (50 iterations in 0.026s)\n",
      "[t-SNE] Iteration 100: error = 46.5584602, gradient norm = 0.3027618 (50 iterations in 0.024s)\n",
      "[t-SNE] Iteration 150: error = 46.5196457, gradient norm = 0.3674369 (50 iterations in 0.021s)\n",
      "[t-SNE] Iteration 200: error = 47.1398926, gradient norm = 0.3375542 (50 iterations in 0.018s)\n",
      "[t-SNE] Iteration 250: error = 47.5185127, gradient norm = 0.2950214 (50 iterations in 0.017s)\n",
      "[t-SNE] KL divergence after 250 iterations with early exaggeration: 47.518513\n",
      "[t-SNE] Iteration 300: error = 0.0832369, gradient norm = 0.0021899 (50 iterations in 0.015s)\n",
      "[t-SNE] Iteration 350: error = 0.0720903, gradient norm = 0.0033564 (50 iterations in 0.014s)\n",
      "[t-SNE] Iteration 400: error = 0.0680919, gradient norm = 0.0011113 (50 iterations in 0.013s)\n",
      "[t-SNE] Iteration 450: error = 0.0630041, gradient norm = 0.0041647 (50 iterations in 0.014s)\n",
      "[t-SNE] Iteration 500: error = 0.0600588, gradient norm = 0.0007744 (50 iterations in 0.013s)\n",
      "[t-SNE] Iteration 550: error = 0.0602528, gradient norm = 0.0005850 (50 iterations in 0.013s)\n",
      "[t-SNE] Iteration 600: error = 0.0599507, gradient norm = 0.0006644 (50 iterations in 0.013s)\n",
      "[t-SNE] Iteration 650: error = 0.0597827, gradient norm = 0.0002625 (50 iterations in 0.013s)\n",
      "[t-SNE] Iteration 700: error = 0.0598701, gradient norm = 0.0005767 (50 iterations in 0.014s)\n",
      "[t-SNE] Iteration 750: error = 0.0599416, gradient norm = 0.0004216 (50 iterations in 0.012s)\n",
      "[t-SNE] Iteration 800: error = 0.0598796, gradient norm = 0.0002056 (50 iterations in 0.013s)\n",
      "[t-SNE] Iteration 850: error = 0.0602451, gradient norm = 0.0002051 (50 iterations in 0.014s)\n",
      "[t-SNE] Iteration 900: error = 0.0601412, gradient norm = 0.0001642 (50 iterations in 0.012s)\n",
      "[t-SNE] Iteration 950: error = 0.0600969, gradient norm = 0.0001637 (50 iterations in 0.013s)\n",
      "[t-SNE] Iteration 1000: error = 0.0600852, gradient norm = 0.0001733 (50 iterations in 0.013s)\n",
      "[t-SNE] Iteration 1000: did not make any progress during the last 300 episodes. Finished.\n",
      "[t-SNE] KL divergence after 1000 iterations: 0.060085\n"
     ]
    }
   ],
   "source": [
    "model = TSNE(\n",
    "    n_components=2,\n",
    "    verbose=2,\n",
    ").fit_transform(np.asarray(feature_vectors))"
   ]
  },
  {
   "cell_type": "code",
   "execution_count": 8,
   "metadata": {},
   "outputs": [
    {
     "data": {
      "application/vnd.plotly.v1+json": {
       "config": {
        "plotlyServerURL": "https://plot.ly"
       },
       "data": [
        {
         "hovertemplate": "color=E<br>0=%{x}<br>1=%{y}<extra></extra>",
         "legendgroup": "E",
         "marker": {
          "color": "#636efa",
          "symbol": "circle"
         },
         "mode": "markers",
         "name": "E",
         "orientation": "v",
         "showlegend": true,
         "type": "scatter",
         "x": [
          -4.462593078613281,
          -5.718559741973877,
          8.552145957946777,
          7.965466022491455,
          8.85966968536377,
          -5.5490827560424805,
          8.221944808959961,
          8.019464492797852,
          -7.114896774291992,
          -1.523110032081604,
          -0.8551042675971985,
          2.0008349418640137,
          -0.9445919990539551,
          -0.46267250180244446,
          7.97909688949585,
          1.3050293922424316
         ],
         "xaxis": "x",
         "y": [
          10.163504600524902,
          3.5547196865081787,
          -10.922426223754883,
          -6.717822551727295,
          -6.704460144042969,
          4.257227420806885,
          -7.317089557647705,
          -6.260434150695801,
          11.041399002075195,
          2.0190584659576416,
          2.316671848297119,
          0.1064893901348114,
          2.1815383434295654,
          2.588026523590088,
          -11.243355751037598,
          -1.0142431259155273
         ],
         "yaxis": "y"
        },
        {
         "hovertemplate": "color=H<br>0=%{x}<br>1=%{y}<extra></extra>",
         "legendgroup": "H",
         "marker": {
          "color": "#EF553B",
          "symbol": "circle"
         },
         "mode": "markers",
         "name": "H",
         "orientation": "v",
         "showlegend": true,
         "type": "scatter",
         "x": [
          -2.1264407634735107,
          -8.31136417388916,
          8.066184043884277,
          5.632533550262451,
          7.972151279449463,
          7.5735554695129395,
          8.30974006652832,
          -1.9478026628494263,
          -1.4132527112960815,
          -1.6355215311050415,
          -1.1490387916564941,
          -1.5191822052001953,
          8.273012161254883,
          -7.070497035980225,
          1.7873117923736572,
          0.5839179754257202
         ],
         "xaxis": "x",
         "y": [
          0.6238529086112976,
          8.510293960571289,
          -10.998722076416016,
          -10.614845275878906,
          -8.263385772705078,
          -7.391170978546143,
          -10.640666007995605,
          1.6249046325683594,
          1.0426069498062134,
          0.768989622592926,
          1.6383190155029297,
          1.080769419670105,
          -10.312472343444824,
          11.039131164550781,
          -0.454130083322525,
          -1.5468697547912598
         ],
         "yaxis": "y"
        },
        {
         "hovertemplate": "color=L<br>0=%{x}<br>1=%{y}<extra></extra>",
         "legendgroup": "L",
         "marker": {
          "color": "#00cc96",
          "symbol": "circle"
         },
         "mode": "markers",
         "name": "L",
         "orientation": "v",
         "showlegend": true,
         "type": "scatter",
         "x": [
          0.8300184607505798,
          1.5192203521728516,
          -7.144660949707031,
          8.661892890930176,
          7.93108606338501,
          -8.832476615905762,
          8.355002403259277,
          -6.295861721038818,
          -8.555068969726562,
          -8.085322380065918,
          -1.976330041885376,
          -8.438966751098633,
          -7.933152198791504,
          -8.111778259277344,
          -8.441913604736328,
          -2.4973278045654297,
          1.3357315063476562,
          -7.820453643798828,
          1.2596439123153687
         ],
         "xaxis": "x",
         "y": [
          -1.280747890472412,
          0.18277807533740997,
          6.931103229522705,
          -7.745090961456299,
          -6.827324867248535,
          6.7715349197387695,
          -6.888545513153076,
          11.17778205871582,
          6.744157314300537,
          6.906557083129883,
          2.4325153827667236,
          8.44970703125,
          8.127632141113281,
          8.215737342834473,
          6.674228668212891,
          9.214153289794922,
          -0.7008522748947144,
          6.426886081695557,
          0.02023482508957386
         ],
         "yaxis": "y"
        },
        {
         "hovertemplate": "color=N<br>0=%{x}<br>1=%{y}<extra></extra>",
         "legendgroup": "N",
         "marker": {
          "color": "#ab63fa",
          "symbol": "circle"
         },
         "mode": "markers",
         "name": "N",
         "orientation": "v",
         "showlegend": true,
         "type": "scatter",
         "x": [
          0.8964110016822815,
          -9.082353591918945,
          -7.070047378540039,
          -8.54681396484375,
          -1.294609785079956,
          -1.9438236951828003,
          -2.8747012615203857,
          -8.526611328125,
          -7.714609146118164,
          -8.438325881958008,
          -4.311788082122803,
          -7.729232311248779,
          8.243585586547852,
          -7.015707969665527,
          2.2393133640289307,
          8.875762939453125,
          -5.1138153076171875,
          -8.255715370178223,
          1.3975589275360107
         ],
         "xaxis": "x",
         "y": [
          0.06289751082658768,
          7.764119625091553,
          11.036495208740234,
          6.798133373260498,
          1.6486663818359375,
          1.1309086084365845,
          9.45161247253418,
          8.401686668395996,
          7.00800085067749,
          10.105147361755371,
          10.09422492980957,
          8.46139144897461,
          -10.207650184631348,
          11.104440689086914,
          -0.21654368937015533,
          -7.35414981842041,
          4.35062313079834,
          6.681641101837158,
          -0.14631609618663788
         ],
         "yaxis": "y"
        },
        {
         "hovertemplate": "color=U<br>0=%{x}<br>1=%{y}<extra></extra>",
         "legendgroup": "U",
         "marker": {
          "color": "#FFA15A",
          "symbol": "circle"
         },
         "mode": "markers",
         "name": "U",
         "orientation": "v",
         "showlegend": true,
         "type": "scatter",
         "x": [
          -3.2949090003967285,
          7.41121768951416,
          9.289444923400879,
          7.339970111846924,
          -5.574623107910156,
          -8.561410903930664,
          -6.350888252258301,
          -2.1828906536102295,
          -9.340414047241211,
          8.092679023742676,
          -1.0698174238204956,
          0.7772377133369446,
          -8.834775924682617,
          5.5766119956970215,
          -1.8871181011199951,
          9.149158477783203,
          6.811863422393799,
          -9.594389915466309
         ],
         "xaxis": "x",
         "y": [
          9.662303924560547,
          -10.692083358764648,
          -10.954487800598145,
          -10.009961128234863,
          4.418612480163574,
          10.023749351501465,
          11.181543350219727,
          1.5572689771652222,
          6.268389701843262,
          -6.668188095092773,
          0.9616146683692932,
          -1.0493017435073853,
          6.6444292068481445,
          -10.543631553649902,
          1.7557055950164795,
          -7.814540386199951,
          -6.623916149139404,
          7.836234092712402
         ],
         "yaxis": "y"
        },
        {
         "hovertemplate": "color=V<br>0=%{x}<br>1=%{y}<extra></extra>",
         "legendgroup": "V",
         "marker": {
          "color": "#19d3f3",
          "symbol": "circle"
         },
         "mode": "markers",
         "name": "V",
         "orientation": "v",
         "showlegend": true,
         "type": "scatter",
         "x": [
          -8.564330101013184,
          8.924592971801758,
          -6.308046340942383,
          -8.685544967651367,
          8.632957458496094,
          8.40919017791748,
          -1.3406379222869873,
          4.918798923492432,
          -8.371496200561523,
          -8.963375091552734,
          -1.0793026685714722,
          0.9321990013122559,
          -1.3789277076721191,
          -5.686003684997559,
          -2.471658945083618,
          8.876884460449219,
          8.163363456726074
         ],
         "xaxis": "x",
         "y": [
          6.714150905609131,
          -7.340729713439941,
          11.183218002319336,
          8.001850128173828,
          -7.892700672149658,
          -8.616697311401367,
          0.5690076351165771,
          -9.849102020263672,
          10.01278305053711,
          8.178933143615723,
          1.2629928588867188,
          -0.2625274658203125,
          0.328857421875,
          4.182673454284668,
          9.196802139282227,
          -6.649296283721924,
          -7.450383186340332
         ],
         "yaxis": "y"
        },
        {
         "hovertemplate": "color=i<br>0=%{x}<br>1=%{y}<extra></extra>",
         "legendgroup": "i",
         "marker": {
          "color": "#FF6692",
          "symbol": "circle"
         },
         "mode": "markers",
         "name": "i",
         "orientation": "v",
         "showlegend": true,
         "type": "scatter",
         "x": [
          8.116060256958008,
          -6.987208843231201,
          0.8717164993286133,
          7.437556743621826,
          7.47499418258667,
          0.7340506911277771,
          -6.45367956161499,
          -0.5512341260910034,
          -8.32308578491211,
          -5.923893928527832,
          7.607247829437256,
          -5.634761333465576,
          8.64161205291748,
          -3.256744861602783,
          -5.870922565460205,
          7.607641220092773,
          -3.1022748947143555,
          -1.6073261499404907,
          8.281729698181152
         ],
         "xaxis": "x",
         "y": [
          -10.482343673706055,
          11.108972549438477,
          -0.5793361663818359,
          -10.191308975219727,
          -10.255702018737793,
          -0.6247668266296387,
          3.853971481323242,
          1.7747844457626343,
          6.150224685668945,
          3.4320433139801025,
          -7.83440637588501,
          3.3687808513641357,
          -8.31960391998291,
          9.644142150878906,
          4.112820148468018,
          -10.587797164916992,
          9.573671340942383,
          1.8767244815826416,
          -8.173776626586914
         ],
         "yaxis": "y"
        },
        {
         "hovertemplate": "color=Ơ<br>0=%{x}<br>1=%{y}<extra></extra>",
         "legendgroup": "Ơ",
         "marker": {
          "color": "#B6E880",
          "symbol": "circle"
         },
         "mode": "markers",
         "name": "Ơ",
         "orientation": "v",
         "showlegend": true,
         "type": "scatter",
         "x": [
          5.524937629699707,
          -8.905294418334961,
          1.3596726655960083,
          7.217900276184082,
          -8.466229438781738,
          -4.912326812744141,
          4.928699016571045,
          -5.23826789855957,
          1.7149218320846558,
          1.535119891166687,
          1.976408839225769,
          7.6379570960998535,
          0.48306459188461304,
          7.7463459968566895,
          -2.5064308643341064,
          7.669597625732422,
          -5.206426620483398
         ],
         "xaxis": "x",
         "y": [
          -10.462645530700684,
          7.910830974578857,
          0.6826736330986023,
          -7.878358840942383,
          10.061782836914062,
          4.444578647613525,
          -9.857564926147461,
          4.0356950759887695,
          1.7635830640792847,
          -0.334105521440506,
          -1.143860936164856,
          -11.104999542236328,
          -0.7019068002700806,
          -7.682229042053223,
          9.221638679504395,
          -10.303288459777832,
          4.237860679626465
         ],
         "yaxis": "y"
        }
       ],
       "layout": {
        "legend": {
         "title": {
          "text": "color"
         },
         "tracegroupgap": 0
        },
        "margin": {
         "t": 60
        },
        "template": {
         "data": {
          "bar": [
           {
            "error_x": {
             "color": "#2a3f5f"
            },
            "error_y": {
             "color": "#2a3f5f"
            },
            "marker": {
             "line": {
              "color": "#E5ECF6",
              "width": 0.5
             },
             "pattern": {
              "fillmode": "overlay",
              "size": 10,
              "solidity": 0.2
             }
            },
            "type": "bar"
           }
          ],
          "barpolar": [
           {
            "marker": {
             "line": {
              "color": "#E5ECF6",
              "width": 0.5
             },
             "pattern": {
              "fillmode": "overlay",
              "size": 10,
              "solidity": 0.2
             }
            },
            "type": "barpolar"
           }
          ],
          "carpet": [
           {
            "aaxis": {
             "endlinecolor": "#2a3f5f",
             "gridcolor": "white",
             "linecolor": "white",
             "minorgridcolor": "white",
             "startlinecolor": "#2a3f5f"
            },
            "baxis": {
             "endlinecolor": "#2a3f5f",
             "gridcolor": "white",
             "linecolor": "white",
             "minorgridcolor": "white",
             "startlinecolor": "#2a3f5f"
            },
            "type": "carpet"
           }
          ],
          "choropleth": [
           {
            "colorbar": {
             "outlinewidth": 0,
             "ticks": ""
            },
            "type": "choropleth"
           }
          ],
          "contour": [
           {
            "colorbar": {
             "outlinewidth": 0,
             "ticks": ""
            },
            "colorscale": [
             [
              0,
              "#0d0887"
             ],
             [
              0.1111111111111111,
              "#46039f"
             ],
             [
              0.2222222222222222,
              "#7201a8"
             ],
             [
              0.3333333333333333,
              "#9c179e"
             ],
             [
              0.4444444444444444,
              "#bd3786"
             ],
             [
              0.5555555555555556,
              "#d8576b"
             ],
             [
              0.6666666666666666,
              "#ed7953"
             ],
             [
              0.7777777777777778,
              "#fb9f3a"
             ],
             [
              0.8888888888888888,
              "#fdca26"
             ],
             [
              1,
              "#f0f921"
             ]
            ],
            "type": "contour"
           }
          ],
          "contourcarpet": [
           {
            "colorbar": {
             "outlinewidth": 0,
             "ticks": ""
            },
            "type": "contourcarpet"
           }
          ],
          "heatmap": [
           {
            "colorbar": {
             "outlinewidth": 0,
             "ticks": ""
            },
            "colorscale": [
             [
              0,
              "#0d0887"
             ],
             [
              0.1111111111111111,
              "#46039f"
             ],
             [
              0.2222222222222222,
              "#7201a8"
             ],
             [
              0.3333333333333333,
              "#9c179e"
             ],
             [
              0.4444444444444444,
              "#bd3786"
             ],
             [
              0.5555555555555556,
              "#d8576b"
             ],
             [
              0.6666666666666666,
              "#ed7953"
             ],
             [
              0.7777777777777778,
              "#fb9f3a"
             ],
             [
              0.8888888888888888,
              "#fdca26"
             ],
             [
              1,
              "#f0f921"
             ]
            ],
            "type": "heatmap"
           }
          ],
          "heatmapgl": [
           {
            "colorbar": {
             "outlinewidth": 0,
             "ticks": ""
            },
            "colorscale": [
             [
              0,
              "#0d0887"
             ],
             [
              0.1111111111111111,
              "#46039f"
             ],
             [
              0.2222222222222222,
              "#7201a8"
             ],
             [
              0.3333333333333333,
              "#9c179e"
             ],
             [
              0.4444444444444444,
              "#bd3786"
             ],
             [
              0.5555555555555556,
              "#d8576b"
             ],
             [
              0.6666666666666666,
              "#ed7953"
             ],
             [
              0.7777777777777778,
              "#fb9f3a"
             ],
             [
              0.8888888888888888,
              "#fdca26"
             ],
             [
              1,
              "#f0f921"
             ]
            ],
            "type": "heatmapgl"
           }
          ],
          "histogram": [
           {
            "marker": {
             "pattern": {
              "fillmode": "overlay",
              "size": 10,
              "solidity": 0.2
             }
            },
            "type": "histogram"
           }
          ],
          "histogram2d": [
           {
            "colorbar": {
             "outlinewidth": 0,
             "ticks": ""
            },
            "colorscale": [
             [
              0,
              "#0d0887"
             ],
             [
              0.1111111111111111,
              "#46039f"
             ],
             [
              0.2222222222222222,
              "#7201a8"
             ],
             [
              0.3333333333333333,
              "#9c179e"
             ],
             [
              0.4444444444444444,
              "#bd3786"
             ],
             [
              0.5555555555555556,
              "#d8576b"
             ],
             [
              0.6666666666666666,
              "#ed7953"
             ],
             [
              0.7777777777777778,
              "#fb9f3a"
             ],
             [
              0.8888888888888888,
              "#fdca26"
             ],
             [
              1,
              "#f0f921"
             ]
            ],
            "type": "histogram2d"
           }
          ],
          "histogram2dcontour": [
           {
            "colorbar": {
             "outlinewidth": 0,
             "ticks": ""
            },
            "colorscale": [
             [
              0,
              "#0d0887"
             ],
             [
              0.1111111111111111,
              "#46039f"
             ],
             [
              0.2222222222222222,
              "#7201a8"
             ],
             [
              0.3333333333333333,
              "#9c179e"
             ],
             [
              0.4444444444444444,
              "#bd3786"
             ],
             [
              0.5555555555555556,
              "#d8576b"
             ],
             [
              0.6666666666666666,
              "#ed7953"
             ],
             [
              0.7777777777777778,
              "#fb9f3a"
             ],
             [
              0.8888888888888888,
              "#fdca26"
             ],
             [
              1,
              "#f0f921"
             ]
            ],
            "type": "histogram2dcontour"
           }
          ],
          "mesh3d": [
           {
            "colorbar": {
             "outlinewidth": 0,
             "ticks": ""
            },
            "type": "mesh3d"
           }
          ],
          "parcoords": [
           {
            "line": {
             "colorbar": {
              "outlinewidth": 0,
              "ticks": ""
             }
            },
            "type": "parcoords"
           }
          ],
          "pie": [
           {
            "automargin": true,
            "type": "pie"
           }
          ],
          "scatter": [
           {
            "fillpattern": {
             "fillmode": "overlay",
             "size": 10,
             "solidity": 0.2
            },
            "type": "scatter"
           }
          ],
          "scatter3d": [
           {
            "line": {
             "colorbar": {
              "outlinewidth": 0,
              "ticks": ""
             }
            },
            "marker": {
             "colorbar": {
              "outlinewidth": 0,
              "ticks": ""
             }
            },
            "type": "scatter3d"
           }
          ],
          "scattercarpet": [
           {
            "marker": {
             "colorbar": {
              "outlinewidth": 0,
              "ticks": ""
             }
            },
            "type": "scattercarpet"
           }
          ],
          "scattergeo": [
           {
            "marker": {
             "colorbar": {
              "outlinewidth": 0,
              "ticks": ""
             }
            },
            "type": "scattergeo"
           }
          ],
          "scattergl": [
           {
            "marker": {
             "colorbar": {
              "outlinewidth": 0,
              "ticks": ""
             }
            },
            "type": "scattergl"
           }
          ],
          "scattermapbox": [
           {
            "marker": {
             "colorbar": {
              "outlinewidth": 0,
              "ticks": ""
             }
            },
            "type": "scattermapbox"
           }
          ],
          "scatterpolar": [
           {
            "marker": {
             "colorbar": {
              "outlinewidth": 0,
              "ticks": ""
             }
            },
            "type": "scatterpolar"
           }
          ],
          "scatterpolargl": [
           {
            "marker": {
             "colorbar": {
              "outlinewidth": 0,
              "ticks": ""
             }
            },
            "type": "scatterpolargl"
           }
          ],
          "scatterternary": [
           {
            "marker": {
             "colorbar": {
              "outlinewidth": 0,
              "ticks": ""
             }
            },
            "type": "scatterternary"
           }
          ],
          "surface": [
           {
            "colorbar": {
             "outlinewidth": 0,
             "ticks": ""
            },
            "colorscale": [
             [
              0,
              "#0d0887"
             ],
             [
              0.1111111111111111,
              "#46039f"
             ],
             [
              0.2222222222222222,
              "#7201a8"
             ],
             [
              0.3333333333333333,
              "#9c179e"
             ],
             [
              0.4444444444444444,
              "#bd3786"
             ],
             [
              0.5555555555555556,
              "#d8576b"
             ],
             [
              0.6666666666666666,
              "#ed7953"
             ],
             [
              0.7777777777777778,
              "#fb9f3a"
             ],
             [
              0.8888888888888888,
              "#fdca26"
             ],
             [
              1,
              "#f0f921"
             ]
            ],
            "type": "surface"
           }
          ],
          "table": [
           {
            "cells": {
             "fill": {
              "color": "#EBF0F8"
             },
             "line": {
              "color": "white"
             }
            },
            "header": {
             "fill": {
              "color": "#C8D4E3"
             },
             "line": {
              "color": "white"
             }
            },
            "type": "table"
           }
          ]
         },
         "layout": {
          "annotationdefaults": {
           "arrowcolor": "#2a3f5f",
           "arrowhead": 0,
           "arrowwidth": 1
          },
          "autotypenumbers": "strict",
          "coloraxis": {
           "colorbar": {
            "outlinewidth": 0,
            "ticks": ""
           }
          },
          "colorscale": {
           "diverging": [
            [
             0,
             "#8e0152"
            ],
            [
             0.1,
             "#c51b7d"
            ],
            [
             0.2,
             "#de77ae"
            ],
            [
             0.3,
             "#f1b6da"
            ],
            [
             0.4,
             "#fde0ef"
            ],
            [
             0.5,
             "#f7f7f7"
            ],
            [
             0.6,
             "#e6f5d0"
            ],
            [
             0.7,
             "#b8e186"
            ],
            [
             0.8,
             "#7fbc41"
            ],
            [
             0.9,
             "#4d9221"
            ],
            [
             1,
             "#276419"
            ]
           ],
           "sequential": [
            [
             0,
             "#0d0887"
            ],
            [
             0.1111111111111111,
             "#46039f"
            ],
            [
             0.2222222222222222,
             "#7201a8"
            ],
            [
             0.3333333333333333,
             "#9c179e"
            ],
            [
             0.4444444444444444,
             "#bd3786"
            ],
            [
             0.5555555555555556,
             "#d8576b"
            ],
            [
             0.6666666666666666,
             "#ed7953"
            ],
            [
             0.7777777777777778,
             "#fb9f3a"
            ],
            [
             0.8888888888888888,
             "#fdca26"
            ],
            [
             1,
             "#f0f921"
            ]
           ],
           "sequentialminus": [
            [
             0,
             "#0d0887"
            ],
            [
             0.1111111111111111,
             "#46039f"
            ],
            [
             0.2222222222222222,
             "#7201a8"
            ],
            [
             0.3333333333333333,
             "#9c179e"
            ],
            [
             0.4444444444444444,
             "#bd3786"
            ],
            [
             0.5555555555555556,
             "#d8576b"
            ],
            [
             0.6666666666666666,
             "#ed7953"
            ],
            [
             0.7777777777777778,
             "#fb9f3a"
            ],
            [
             0.8888888888888888,
             "#fdca26"
            ],
            [
             1,
             "#f0f921"
            ]
           ]
          },
          "colorway": [
           "#636efa",
           "#EF553B",
           "#00cc96",
           "#ab63fa",
           "#FFA15A",
           "#19d3f3",
           "#FF6692",
           "#B6E880",
           "#FF97FF",
           "#FECB52"
          ],
          "font": {
           "color": "#2a3f5f"
          },
          "geo": {
           "bgcolor": "white",
           "lakecolor": "white",
           "landcolor": "#E5ECF6",
           "showlakes": true,
           "showland": true,
           "subunitcolor": "white"
          },
          "hoverlabel": {
           "align": "left"
          },
          "hovermode": "closest",
          "mapbox": {
           "style": "light"
          },
          "paper_bgcolor": "white",
          "plot_bgcolor": "#E5ECF6",
          "polar": {
           "angularaxis": {
            "gridcolor": "white",
            "linecolor": "white",
            "ticks": ""
           },
           "bgcolor": "#E5ECF6",
           "radialaxis": {
            "gridcolor": "white",
            "linecolor": "white",
            "ticks": ""
           }
          },
          "scene": {
           "xaxis": {
            "backgroundcolor": "#E5ECF6",
            "gridcolor": "white",
            "gridwidth": 2,
            "linecolor": "white",
            "showbackground": true,
            "ticks": "",
            "zerolinecolor": "white"
           },
           "yaxis": {
            "backgroundcolor": "#E5ECF6",
            "gridcolor": "white",
            "gridwidth": 2,
            "linecolor": "white",
            "showbackground": true,
            "ticks": "",
            "zerolinecolor": "white"
           },
           "zaxis": {
            "backgroundcolor": "#E5ECF6",
            "gridcolor": "white",
            "gridwidth": 2,
            "linecolor": "white",
            "showbackground": true,
            "ticks": "",
            "zerolinecolor": "white"
           }
          },
          "shapedefaults": {
           "line": {
            "color": "#2a3f5f"
           }
          },
          "ternary": {
           "aaxis": {
            "gridcolor": "white",
            "linecolor": "white",
            "ticks": ""
           },
           "baxis": {
            "gridcolor": "white",
            "linecolor": "white",
            "ticks": ""
           },
           "bgcolor": "#E5ECF6",
           "caxis": {
            "gridcolor": "white",
            "linecolor": "white",
            "ticks": ""
           }
          },
          "title": {
           "x": 0.05
          },
          "xaxis": {
           "automargin": true,
           "gridcolor": "white",
           "linecolor": "white",
           "ticks": "",
           "title": {
            "standoff": 15
           },
           "zerolinecolor": "white",
           "zerolinewidth": 2
          },
          "yaxis": {
           "automargin": true,
           "gridcolor": "white",
           "linecolor": "white",
           "ticks": "",
           "title": {
            "standoff": 15
           },
           "zerolinecolor": "white",
           "zerolinewidth": 2
          }
         }
        },
        "xaxis": {
         "anchor": "y",
         "domain": [
          0,
          1
         ],
         "title": {
          "text": "0"
         }
        },
        "yaxis": {
         "anchor": "x",
         "domain": [
          0,
          1
         ],
         "title": {
          "text": "1"
         }
        }
       }
      }
     },
     "metadata": {},
     "output_type": "display_data"
    }
   ],
   "source": [
    "import plotly.express as px\n",
    "\n",
    "fig = px.scatter(model, x=0, y=1, color=labels)\n",
    "fig.show()"
   ]
  },
  {
   "cell_type": "code",
   "execution_count": 13,
   "metadata": {},
   "outputs": [
    {
     "data": {
      "text/html": [
       "<pre style=\"white-space:pre;overflow-x:auto;line-height:normal;font-family:Menlo,'DejaVu Sans Mono',consolas,'Courier New',monospace\"></pre>\n"
      ],
      "text/plain": []
     },
     "metadata": {},
     "output_type": "display_data"
    },
    {
     "data": {
      "text/plain": [
       "\u001b[1;35marray\u001b[0m\u001b[1m(\u001b[0m\u001b[1m[\u001b[0m\u001b[32m'5'\u001b[0m, \u001b[32m'0'\u001b[0m, \u001b[32m'4'\u001b[0m, \u001b[33m...\u001b[0m, \u001b[32m'4'\u001b[0m, \u001b[32m'5'\u001b[0m, \u001b[32m'6'\u001b[0m\u001b[1m]\u001b[0m, \u001b[33mdtype\u001b[0m=\u001b[35mobject\u001b[0m\u001b[1m)\u001b[0m"
      ]
     },
     "execution_count": 13,
     "metadata": {},
     "output_type": "execute_result"
    }
   ],
   "source": [
    "from sklearn.datasets import fetch_openml\n",
    "\n",
    "X, y = fetch_openml(\"mnist_784\", version=1, return_X_y=True, as_frame=False)\n",
    "y"
   ]
  },
  {
   "cell_type": "code",
   "execution_count": null,
   "metadata": {},
   "outputs": [],
   "source": []
  }
 ],
 "metadata": {
  "kernelspec": {
   "display_name": ".venv",
   "language": "python",
   "name": "python3"
  },
  "language_info": {
   "codemirror_mode": {
    "name": "ipython",
    "version": 3
   },
   "file_extension": ".py",
   "mimetype": "text/x-python",
   "name": "python",
   "nbconvert_exporter": "python",
   "pygments_lexer": "ipython3",
   "version": "3.10.16"
  }
 },
 "nbformat": 4,
 "nbformat_minor": 2
}
